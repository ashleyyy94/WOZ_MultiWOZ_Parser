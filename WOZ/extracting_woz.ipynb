{
  "nbformat": 4,
  "nbformat_minor": 0,
  "metadata": {
    "colab": {
      "name": "extracting_woz.ipynb",
      "version": "0.3.2",
      "provenance": [],
      "collapsed_sections": [],
      "toc_visible": true
    },
    "kernelspec": {
      "name": "python3",
      "display_name": "Python 3"
    }
  },
  "cells": [
    {
      "metadata": {
        "id": "BECJg2mm9LIw",
        "colab_type": "text"
      },
      "cell_type": "markdown",
      "source": [
        "# Download the source file"
      ]
    },
    {
      "metadata": {
        "id": "Bsc_RBxU7nXR",
        "colab_type": "code",
        "colab": {}
      },
      "cell_type": "code",
      "source": [
        "!wget https://raw.githubusercontent.com/nmrksic/neural-belief-tracker/master/data/woz/woz_train_en.json\n",
        "!touch formatted_file.jsonl"
      ],
      "execution_count": 0,
      "outputs": []
    },
    {
      "metadata": {
        "id": "3g2eUa5Z9J-v",
        "colab_type": "code",
        "colab": {}
      },
      "cell_type": "code",
      "source": [
        "import json\n",
        "\n",
        "def format_file():\n",
        "  with open(\"formatted_file.jsonl\", 'w+') as split_file:\n",
        "    with open (\"woz_train_en.json\") as src_file:\n",
        "      dialogues = json.loads(src_file.read())\n",
        "      for di, d in enumerate(dialogues):\n",
        "        previous_state = {'inform': [], 'request': []}\n",
        "        turns = d['dialogue']\n",
        "        for ti, t in enumerate(turns):\n",
        "            question = 'What is the change in state?'\n",
        "            actions = []\n",
        "            for act in t['system_acts']:\n",
        "                if isinstance(act, list):\n",
        "                    act = ': '.join(act)\n",
        "                actions.append(act)\n",
        "            actions = ', '.join(actions)\n",
        "            if len(actions) > 0:\n",
        "                actions += ' -- '\n",
        "            context = actions + t['transcript']\n",
        "            belief_state = t['belief_state']\n",
        "            delta_state = {'inform': [], 'request': []}\n",
        "            current_state = {'inform': [], 'request': []}\n",
        "            for item in belief_state:\n",
        "                if 'slots' in item:\n",
        "                    slots = item['slots']\n",
        "                    for slot in slots:\n",
        "                        act = item['act']\n",
        "                        if act == 'inform':\n",
        "                            current_state['inform'].append(slot)\n",
        "                            if not slot in previous_state['inform']:\n",
        "                                delta_state['inform'].append(slot)\n",
        "                            else:\n",
        "                                prev_slot = previous_state['inform'][previous_state['inform'].index(slot)]\n",
        "                                if prev_slot[1] != slot[1]:\n",
        "                                    delta_state['inform'].append(slot)\n",
        "                        else: \n",
        "                            delta_state['request'].append(slot[1])\n",
        "                            current_state['request'].append(slot[1])\n",
        "            previous_state = current_state\n",
        "            answer = ''\n",
        "            if len(delta_state['inform']) > 0:\n",
        "                answer = ', '.join([f'{x[0]}: {x[1]}' for x in delta_state['inform']])\n",
        "            answer += ';'\n",
        "            if len(delta_state['request']) > 0:\n",
        "                answer += ' '\n",
        "                answer += ', '.join(delta_state['request'])\n",
        "            ex = {'context': ' '.join(context.split()), \n",
        "                 'question': ' '.join(question.split()),\n",
        "                 'answer': answer if len(answer) > 1 else 'None'\n",
        "                 }\n",
        "            split_file.write(json.dumps(ex)+'\\n')\n",
        "\n",
        "format_file()       "
      ],
      "execution_count": 0,
      "outputs": []
    }
  ]
}